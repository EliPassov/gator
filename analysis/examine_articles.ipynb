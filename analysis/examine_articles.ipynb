{
 "cells": [
  {
   "cell_type": "code",
   "execution_count": 2,
   "metadata": {},
   "outputs": [],
   "source": [
    "import os\n",
    "\n",
    "import torch\n",
    "from torchvision.models.resnet import resnet50\n",
    "from torchvision.models.mobilenet import mobilenet_v2\n",
    "from torchvision.models.squeezenet import squeezenet1_0, squeezenet1_1\n",
    "from torchvision.models.shufflenetv2 import shufflenet_v2_x1_0\n",
    "\n",
    "if os.path.basename(os.getcwd()) == 'analysis':\n",
    "    os.chdir('..')\n",
    "from models.gate_wrapped_module import compute_flop_cost_change\n",
    "from models.custom_resnet import filter_mapping_from_default_resnet, custom_resnet_50"
   ]
  },
  {
   "cell_type": "code",
   "execution_count": 2,
   "metadata": {},
   "outputs": [],
   "source": [
    "path = '/home/eli/Downloads/checkpoint.resnet50.2018-07-16-4310.pth.tar'\n",
    "aaa = torch.load(path)"
   ]
  },
  {
   "cell_type": "code",
   "execution_count": 9,
   "metadata": {},
   "outputs": [
    {
     "data": {
      "text/plain": [
       "IncompatibleKeys(missing_keys=[], unexpected_keys=[])"
      ]
     },
     "execution_count": 9,
     "metadata": {},
     "output_type": "execute_result"
    }
   ],
   "source": [
    "state_dict = aaa['state_dict']\n",
    "state_dict = {k[7:]:v for k,v in state_dict.items()}\n",
    "net = resnet50(pretrained=False)\n",
    "net.load_state_dict(state_dict)"
   ]
  },
  {
   "cell_type": "code",
   "execution_count": 65,
   "metadata": {},
   "outputs": [],
   "source": [
    "def conv_weights_analysis(weights):\n",
    "    no_kernals = weights.sum(-1).sum(-1) == 0\n",
    "#     init_filters = no_kernals.size(0), no_kernals.size(1)\n",
    "    in_non_zero = (no_kernals.sum(0) > 0).sum().item()\n",
    "    out_non_zero = (no_kernals.sum(1) > 0).sum().item()\n",
    "    init_cost = weights.numel()\n",
    "    final_cost  = in_non_zero*out_non_zero *weights.size(2) * weights.size(3)\n",
    "    return init_cost, final_cost\n",
    "    "
   ]
  },
  {
   "cell_type": "code",
   "execution_count": 74,
   "metadata": {},
   "outputs": [
    {
     "name": "stdout",
     "output_type": "stream",
     "text": [
      "76848.0 27683.25 0.6397661617738913\n"
     ]
    }
   ],
   "source": [
    "downsample = 4\n",
    "res1, res2  = conv_weights_analysis(net.conv1.weight.data)\n",
    "orig_total = res1/4 \n",
    "new_total = res2/4\n",
    "for l in range(1,5):\n",
    "    if l > 1:\n",
    "        downsample = downsample * 2\n",
    "    layer = getattr(net, 'layer' + str(l))\n",
    "    res1, res2  = conv_weights_analysis(layer[0].downsample[0].weight.data)\n",
    "    orig_total += res1/(downsample**2) \n",
    "    new_total += res2/(downsample**2) \n",
    "    for i in range(len(layer)):\n",
    "        for j in range(1,4):\n",
    "            res1, res2  = conv_weights_analysis(getattr(layer[i],'conv'+str(j)).weight.data)\n",
    "            orig_total += res1/(downsample**2) \n",
    "            new_total += res2/(downsample**2) \n",
    "print(orig_total, new_total, 1-new_total/orig_total)\n",
    "            "
   ]
  },
  {
   "cell_type": "code",
   "execution_count": 3,
   "metadata": {},
   "outputs": [],
   "source": [
    "m =mobilenet_v2(pretrained=False)\n",
    "\n",
    "downsample = 4\n",
    "res1, res2  = conv_weights_analysis(net.conv1.weight.data)\n",
    "orig_total = res1/4 \n",
    "new_total = res2/4\n",
    "for l in range(1,5):\n",
    "    if l > 1:\n",
    "        downsample = downsample * 2\n",
    "    layer = getattr(net, 'layer' + str(l))\n",
    "    res1, res2  = conv_weights_analysis(layer[0].downsample[0].weight.data)\n",
    "    orig_total += res1/(downsample**2) \n",
    "    new_total += res2/(downsample**2) \n",
    "    for i in range(len(layer)):\n",
    "        for j in range(1,4):\n",
    "            res1, res2  = conv_weights_analysis(getattr(layer[i],'conv'+str(j)).weight.data)\n",
    "            orig_total += res1/(downsample**2) \n",
    "            new_total += res2/(downsample**2) \n",
    "print(orig_total, new_total, 1-new_total/orig_total)"
   ]
  },
  {
   "cell_type": "code",
   "execution_count": 17,
   "metadata": {},
   "outputs": [],
   "source": [
    "mob =mobilenet_v2(pretrained=False)"
   ]
  },
  {
   "cell_type": "code",
   "execution_count": 37,
   "metadata": {},
   "outputs": [
    {
     "name": "stdout",
     "output_type": "stream",
     "text": [
      "5994.385204081633 32\n"
     ]
    }
   ],
   "source": [
    "downsample = 1\n",
    "flops = 0\n",
    "for m in mob.modules():\n",
    "    if not isinstance(m, torch.nn.Conv2d):\n",
    "        if isinstance(m, torch.nn.Linear):\n",
    "            flops += m.in_features * m.out_features / (224**2)\n",
    "    else:\n",
    "        if m.stride[0] == 2:\n",
    "            downsample = 2 * downsample\n",
    "        flops += m.in_channels* m.out_channels* m.kernel_size[0]* m.kernel_size[1] / (m.groups * downsample**2)\n",
    "print(flops, downsample)"
   ]
  },
  {
   "cell_type": "code",
   "execution_count": 38,
   "metadata": {},
   "outputs": [
    {
     "data": {
      "text/plain": [
       "(12.8199969444195, 12.874787962555757)"
      ]
     },
     "execution_count": 38,
     "metadata": {},
     "output_type": "execute_result"
    }
   ],
   "source": [
    "76848 / 5994.385204081633 , 76848 / 5968.875"
   ]
  },
  {
   "cell_type": "code",
   "execution_count": null,
   "metadata": {},
   "outputs": [],
   "source": []
  }
 ],
 "metadata": {
  "kernelspec": {
   "display_name": "Python 3",
   "language": "python",
   "name": "python3"
  },
  "language_info": {
   "codemirror_mode": {
    "name": "ipython",
    "version": 3
   },
   "file_extension": ".py",
   "mimetype": "text/x-python",
   "name": "python",
   "nbconvert_exporter": "python",
   "pygments_lexer": "ipython3",
   "version": "3.7.9"
  }
 },
 "nbformat": 4,
 "nbformat_minor": 4
}
