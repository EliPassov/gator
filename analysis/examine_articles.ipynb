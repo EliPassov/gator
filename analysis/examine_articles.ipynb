{
 "cells": [
  {
   "cell_type": "code",
   "execution_count": 1,
   "metadata": {},
   "outputs": [],
   "source": [
    "import os\n",
    "\n",
    "import torch\n",
    "from torchvision.models.resnet import resnet50\n",
    "from torchvision.models.mobilenet import mobilenet_v2\n",
    "from torchvision.models.squeezenet import squeezenet1_0, squeezenet1_1\n",
    "from torchvision.models.shufflenetv2 import shufflenet_v2_x1_0\n",
    "\n",
    "if os.path.basename(os.getcwd()) == 'analysis':\n",
    "    os.chdir('..')\n",
    "from external_models.dcp.pruned_resnet import PrunedResnet30, PrunedResnet50, PrunedResnet70\n",
    "from models.gate_wrapped_module import compute_flop_cost_change\n",
    "from models.custom_resnet import filter_mapping_from_default_resnet, custom_resnet_50, custom_resnet_56"
   ]
  },
  {
   "cell_type": "code",
   "execution_count": 81,
   "metadata": {},
   "outputs": [],
   "source": [
    "path = '/home/eli/Downloads/best.resnet50.2018-07-11-9994.pth.tar'\n",
    "aaa = torch.load(path)"
   ]
  },
  {
   "cell_type": "code",
   "execution_count": 82,
   "metadata": {},
   "outputs": [
    {
     "data": {
      "text/plain": [
       "IncompatibleKeys(missing_keys=[], unexpected_keys=[])"
      ]
     },
     "execution_count": 82,
     "metadata": {},
     "output_type": "execute_result"
    }
   ],
   "source": [
    "state_dict = aaa['state_dict']\n",
    "state_dict = {k[7:]:v for k,v in state_dict.items()}\n",
    "net = resnet50(pretrained=False)\n",
    "net.load_state_dict(state_dict)"
   ]
  },
  {
   "cell_type": "code",
   "execution_count": null,
   "metadata": {},
   "outputs": [],
   "source": [
    "from matplotlib import pyplot as plt\n",
    "\n",
    "w = net.layer1[0].downsample[0].weight.data[:,:,0,0].abs()\n",
    "w_in = w.sum(0).numpy()\n",
    "w_out = w.sum(1).numpy()\n",
    "\n",
    "w_out.sort()\n",
    "w_out\n",
    "# plt.hist(w_in)\n",
    "# (w_out<1e-1).sum(), 256-180"
   ]
  },
  {
   "cell_type": "code",
   "execution_count": 83,
   "metadata": {},
   "outputs": [],
   "source": [
    "def conv_weights_analysis(weights, prev_out=None):\n",
    "    no_kernals = (weights!=0).sum(-1).sum(-1) != 0\n",
    "#     no_kernals = weights.sum(-1).sum(-1) != 0\n",
    "#     init_filters = no_kernals.size(0), no_kernals.size(1)\n",
    "    in_non_zero = (no_kernals.sum(0) > 0).sum().item()\n",
    "    out_non_zero = (no_kernals.sum(1) > 0).sum().item()\n",
    "    if prev_out is not None:\n",
    "        in_non_zero = min(in_non_zero, prev_out)\n",
    "    init_cost = weights.numel()\n",
    "    final_cost  = in_non_zero*out_non_zero *weights.size(2) * weights.size(3)\n",
    "    return init_cost, final_cost, in_non_zero, out_non_zero\n",
    "    "
   ]
  },
  {
   "cell_type": "code",
   "execution_count": 84,
   "metadata": {},
   "outputs": [
    {
     "name": "stdout",
     "output_type": "stream",
     "text": [
      "1433.25\n",
      "down 1024.0 64 256\n",
      "2457.25\n",
      "conv1 156.0 64 39\n",
      "2613.25\n",
      "conv2 1404.0 64 39\n",
      "4017.25\n",
      "conv3 616.0 64 154\n",
      "4633.25\n",
      "conv1 95.0625 39 39\n",
      "4728.3125\n",
      "conv2 855.5625 39 39\n",
      "5583.875\n",
      "conv3 375.375 39 154\n",
      "5959.25\n",
      "conv1 624.0 256 39\n",
      "6583.25\n",
      "conv2 1404.0 64 39\n",
      "7987.25\n",
      "conv3 616.0 64 154\n",
      "8603.25\n",
      "down 2048.0 256 512\n",
      "10651.25\n",
      "conv1 308.0 256 77\n",
      "10959.25\n",
      "conv2 1386.0 128 77\n",
      "12345.25\n",
      "conv3 616.0 128 308\n",
      "12961.25\n",
      "conv1 46.921875 39 77\n",
      "13008.171875\n",
      "conv2 422.296875 39 77\n",
      "13430.46875\n",
      "conv3 187.6875 39 308\n",
      "13618.15625\n",
      "conv1 616.0 512 77\n",
      "14234.15625\n",
      "conv2 1386.0 128 77\n",
      "15620.15625\n",
      "conv3 616.0 128 308\n",
      "16236.15625\n",
      "conv1 616.0 512 77\n",
      "16852.15625\n",
      "conv2 1386.0 128 77\n",
      "18238.15625\n",
      "conv3 616.0 128 308\n",
      "18854.15625\n",
      "down 2048.0 512 1024\n",
      "20902.15625\n",
      "conv1 308.0 512 154\n",
      "21210.15625\n",
      "conv2 1386.0 256 154\n",
      "22596.15625\n",
      "conv3 615.0 256 615\n",
      "23211.15625\n",
      "conv1 23.4609375 39 154\n",
      "23234.6171875\n",
      "conv2 211.1484375 39 154\n",
      "23445.765625\n",
      "conv3 93.69140625 39 615\n",
      "23539.45703125\n",
      "conv1 616.0 1024 154\n",
      "24155.45703125\n",
      "conv2 1386.0 256 154\n",
      "25541.45703125\n",
      "conv3 615.0 256 615\n",
      "26156.45703125\n",
      "conv1 616.0 1024 154\n",
      "26772.45703125\n",
      "conv2 1386.0 256 154\n",
      "28158.45703125\n",
      "conv3 615.0 256 615\n",
      "28773.45703125\n",
      "conv1 616.0 1024 154\n",
      "29389.45703125\n",
      "conv2 1386.0 256 154\n",
      "30775.45703125\n",
      "conv3 615.0 256 615\n",
      "31390.45703125\n",
      "conv1 616.0 1024 154\n",
      "32006.45703125\n",
      "conv2 1386.0 256 154\n",
      "33392.45703125\n",
      "conv3 615.0 256 615\n",
      "34007.45703125\n",
      "down 2048.0 1024 2048\n",
      "36055.45703125\n",
      "conv1 308.0 1024 308\n",
      "36363.45703125\n",
      "conv2 1386.0 512 308\n",
      "37749.45703125\n",
      "conv3 614.5 512 1229\n",
      "38363.95703125\n",
      "conv1 11.73046875 39 308\n",
      "38375.6875\n",
      "conv2 105.57421875 39 308\n",
      "38481.26171875\n",
      "conv3 46.8076171875 39 1229\n",
      "38528.0693359375\n",
      "conv1 616.0 2048 308\n",
      "39144.0693359375\n",
      "conv2 1386.0 512 308\n",
      "40530.0693359375\n",
      "conv3 614.5 512 1229\n",
      "41144.5693359375\n",
      "40.816326530612244\n",
      "41185.385662468114\n",
      "76888.8163265306 41185.385662468114 0.4643514150671476 1.8668956254693694 25502912 14012159\n",
      "{'conv1': 39, 'layer1': {'0': {'downsample': 256, 'conv1': 39, 'conv2': 39, 'conv3': 154}, '1': {'conv1': 39, 'conv2': 39, 'conv3': 154}, '2': {'conv1': 39, 'conv2': 39, 'conv3': 154}}, 'layer2': {'0': {'downsample': 512, 'conv1': 77, 'conv2': 77, 'conv3': 308}, '1': {'conv1': 77, 'conv2': 77, 'conv3': 308}, '2': {'conv1': 77, 'conv2': 77, 'conv3': 308}, '3': {'conv1': 77, 'conv2': 77, 'conv3': 308}}, 'layer3': {'0': {'downsample': 1024, 'conv1': 154, 'conv2': 154, 'conv3': 615}, '1': {'conv1': 154, 'conv2': 154, 'conv3': 615}, '2': {'conv1': 154, 'conv2': 154, 'conv3': 615}, '3': {'conv1': 154, 'conv2': 154, 'conv3': 615}, '4': {'conv1': 154, 'conv2': 154, 'conv3': 615}, '5': {'conv1': 154, 'conv2': 154, 'conv3': 615}}, 'layer4': {'0': {'downsample': 2048, 'conv1': 308, 'conv2': 308, 'conv3': 1229}, '1': {'conv1': 308, 'conv2': 308, 'conv3': 1229}, '2': {'conv1': 308, 'conv2': 308, 'conv3': 1229}}}\n"
     ]
    }
   ],
   "source": [
    "downsample = 4\n",
    "\n",
    "channel_config = {}\n",
    "\n",
    "res1, res2, in_channels, out_channels  = conv_weights_analysis(net.conv1.weight.data)\n",
    "channel_config['conv1'] = out_channels\n",
    "first_conv_out = out_channels\n",
    "orig_total = res1/4 \n",
    "orig_memory = res1\n",
    "new_total = res2/4\n",
    "print(new_total )\n",
    "new_memory = res2\n",
    "for l in range(1,5):\n",
    "    layer_config = {}\n",
    "    if l > 1:\n",
    "        downsample = downsample * 2\n",
    "    layer = getattr(net, 'layer' + str(l))\n",
    "    res1, res2, in_channels, out_channels  = conv_weights_analysis(layer[0].downsample[0].weight.data, first_conv_out if i==1 else None)\n",
    "    orig_total += res1/(downsample**2) \n",
    "    orig_memory += res1\n",
    "    new_total += res2/(downsample**2) \n",
    "    print('down', res2/(downsample**2),  in_channels, out_channels )\n",
    "    print(new_total )\n",
    "    new_memory += res2\n",
    "    for i in range(len(layer)):\n",
    "        block_config = {}\n",
    "        if i==0:\n",
    "            block_config['downsample'] = out_channels\n",
    "        for j in range(1,4):\n",
    "            res1, res2, in_channels, out_channels  = conv_weights_analysis(getattr(layer[i],'conv'+str(j)).weight.data, first_conv_out if (i == 1) else None)\n",
    "            block_config['conv'+str(j)] = out_channels\n",
    "            orig_total += res1/(downsample**2) \n",
    "            orig_memory += res1\n",
    "            new_total += res2/(downsample**2) \n",
    "            print('conv'+str(j), res2/(downsample**2), in_channels, out_channels )\n",
    "            print(new_total )\n",
    "            new_memory += res2\n",
    "        layer_config[str(i)] = block_config\n",
    "    channel_config['layer'+str(l)] = layer_config\n",
    "fc_size = net.fc.in_features * net.fc.out_features\n",
    "fc_flops = fc_size / (224**2)\n",
    "\n",
    "orig_total += fc_flops\n",
    "orig_memory += fc_size\n",
    "new_total += fc_flops\n",
    "new_memory += fc_size\n",
    "\n",
    "print (fc_flops)\n",
    "print(new_total)\n",
    "\n",
    "print(orig_total, new_total, 1-new_total/orig_total, orig_total/new_total, orig_memory, new_memory)\n",
    "print(channel_config)"
   ]
  },
  {
   "cell_type": "code",
   "execution_count": 71,
   "metadata": {},
   "outputs": [
    {
     "name": "stdout",
     "output_type": "stream",
     "text": [
      "1433.25\n",
      "375.375\n",
      "1808.625\n",
      "95.0625\n",
      "1903.6875\n",
      "855.5625\n",
      "2759.25\n",
      "375.375\n",
      "3134.625\n",
      "375.375\n",
      "3510.0\n",
      "855.5625\n",
      "4365.5625\n",
      "375.375\n",
      "4740.9375\n",
      "375.375\n",
      "5116.3125\n",
      "855.5625\n",
      "5971.875\n",
      "375.375\n",
      "6347.25\n",
      "741.125\n",
      "7088.375\n",
      "185.28125\n",
      "7273.65625\n",
      "833.765625\n",
      "8107.421875\n",
      "370.5625\n",
      "8477.984375\n",
      "370.5625\n",
      "8848.546875\n",
      "833.765625\n",
      "9682.3125\n",
      "370.5625\n",
      "10052.875\n",
      "370.5625\n",
      "10423.4375\n",
      "833.765625\n",
      "11257.203125\n",
      "370.5625\n",
      "11627.765625\n",
      "370.5625\n",
      "11998.328125\n",
      "833.765625\n",
      "12832.09375\n",
      "370.5625\n",
      "13202.65625\n",
      "739.921875\n",
      "13942.578125\n",
      "185.28125\n",
      "14127.859375\n",
      "833.765625\n",
      "14961.625\n",
      "369.9609375\n",
      "15331.5859375\n",
      "369.9609375\n",
      "15701.546875\n",
      "833.765625\n",
      "16535.3125\n",
      "369.9609375\n",
      "16905.2734375\n",
      "369.9609375\n",
      "17275.234375\n",
      "833.765625\n",
      "18109.0\n",
      "369.9609375\n",
      "18478.9609375\n",
      "369.9609375\n",
      "18848.921875\n",
      "833.765625\n",
      "19682.6875\n",
      "369.9609375\n",
      "20052.6484375\n",
      "369.9609375\n",
      "20422.609375\n",
      "833.765625\n",
      "21256.375\n",
      "369.9609375\n",
      "21626.3359375\n",
      "369.9609375\n",
      "21996.296875\n",
      "833.765625\n",
      "22830.0625\n",
      "369.9609375\n",
      "23200.0234375\n",
      "738.1201171875\n",
      "23938.1435546875\n",
      "184.98046875\n",
      "24123.1240234375\n",
      "833.765625\n",
      "24956.8896484375\n",
      "369.66015625\n",
      "25326.5498046875\n",
      "369.66015625\n",
      "25696.2099609375\n",
      "833.765625\n",
      "26529.9755859375\n",
      "369.66015625\n",
      "26899.6357421875\n",
      "369.66015625\n",
      "27269.2958984375\n",
      "833.765625\n",
      "28103.0615234375\n",
      "369.66015625\n",
      "28472.7216796875\n",
      "24.4937818877551\n",
      "28497.215461575255\n",
      "(28497.215461575255, 9710672.0)\n"
     ]
    }
   ],
   "source": [
    "net_from_config =custom_resnet_50(channel_config)\n",
    "print(net_from_config.compute_flops_memory())\n",
    "# res = net_from_config(torch.randn(2,3,224,224))\n",
    "# res.shape"
   ]
  },
  {
   "cell_type": "code",
   "execution_count": null,
   "metadata": {},
   "outputs": [],
   "source": [
    "import numpy as np\n",
    "from torchvision import transforms\n",
    "from PIL import Image\n",
    "\n",
    "im = Image.open(\"/home/eli/Downloads/cat_1.jpeg\")\n",
    "\n",
    "normalize = transforms.Normalize(mean=[0.485, 0.456, 0.406],\n",
    "                                 std=[0.229, 0.224, 0.225])\n",
    "imagenet_transforms_test = transforms.Compose([\n",
    "        transforms.Resize(256),\n",
    "        transforms.CenterCrop(224),\n",
    "        transforms.ToTensor(),\n",
    "        normalize,\n",
    "    ])\n",
    "\n",
    "im_t = imagenet_transforms_test(im).reshape(1,3,224,224)\n",
    "\n",
    "# net_from_config(im_t).argsort()"
   ]
  },
  {
   "cell_type": "code",
   "execution_count": 51,
   "metadata": {},
   "outputs": [],
   "source": [
    "def get_conv_cost(m, down):\n",
    "    assert isinstance(m, torch.nn.Conv2d)\n",
    "    res = m.in_channels * m.out_channels * m.kernel_size[0] * m.kernel_size[1]\n",
    "    return res / (m.groups * down**2), res"
   ]
  },
  {
   "cell_type": "code",
   "execution_count": 17,
   "metadata": {},
   "outputs": [],
   "source": []
  },
  {
   "cell_type": "code",
   "execution_count": 40,
   "metadata": {},
   "outputs": [
    {
     "name": "stdout",
     "output_type": "stream",
     "text": [
      "5994.385204081633 44015840 32\n"
     ]
    }
   ],
   "source": [
    "mob =mobilenet_v2(pretrained=False)\n",
    "downsample = 1\n",
    "flops = 0\n",
    "memory = 0\n",
    "for m in mob.modules():\n",
    "    if not isinstance(m, torch.nn.Conv2d):\n",
    "        if isinstance(m, torch.nn.Linear):\n",
    "            flops += m.in_features * m.out_features / (224**2)\n",
    "            memory +=m.in_features * m.out_features\n",
    "    else:\n",
    "        if m.stride[0] == 2:\n",
    "            downsample = 2 * downsample\n",
    "        flops += m.in_channels* m.out_channels* m.kernel_size[0]* m.kernel_size[1] / (m.groups * downsample**2)\n",
    "        memory += m.in_channels* m.out_channels* m.kernel_size[0]* m.kernel_size[1]\n",
    "print(flops, memory, downsample)"
   ]
  },
  {
   "cell_type": "code",
   "execution_count": 38,
   "metadata": {},
   "outputs": [
    {
     "data": {
      "text/plain": [
       "(12.8199969444195, 12.874787962555757)"
      ]
     },
     "execution_count": 38,
     "metadata": {},
     "output_type": "execute_result"
    }
   ],
   "source": [
    "76848 / 5994.385204081633 , 76848 / 5968.875"
   ]
  },
  {
   "cell_type": "code",
   "execution_count": 41,
   "metadata": {},
   "outputs": [
    {
     "data": {
      "text/plain": [
       "300774272.0"
      ]
     },
     "execution_count": 41,
     "metadata": {},
     "output_type": "execute_result"
    }
   ],
   "source": [
    "5994.385204081633 *224 *224"
   ]
  },
  {
   "cell_type": "code",
   "execution_count": 66,
   "metadata": {},
   "outputs": [
    {
     "name": "stdout",
     "output_type": "stream",
     "text": [
      "7720.0 1231552 16\n"
     ]
    }
   ],
   "source": [
    "sq_0 = False\n",
    "\n",
    "sq = squeezenet1_0(False) if sq_0 else squeezenet1_1(False)\n",
    "\n",
    "downsample = 4\n",
    "\n",
    "flops, memory = get_conv_cost(sq.features[0], 2)\n",
    "\n",
    "for i in range(3,13):\n",
    "    if i in ([6,11] if sq_0 else [5,8]):\n",
    "        downsample *= 2\n",
    "    else:\n",
    "        for m in sq.features[i].modules():\n",
    "            if isinstance(m, torch.nn.Conv2d):\n",
    "                if m.stride[0] == 2:\n",
    "                    downsample = 2 * downsample\n",
    "                f, m = get_conv_cost(m, downsample)\n",
    "                flops += f\n",
    "                memory += m\n",
    "f, m = get_conv_cost(sq.classifier[1], downsample)\n",
    "flops += f\n",
    "memory += m     \n",
    "\n",
    "print(flops, memory, downsample)"
   ]
  },
  {
   "cell_type": "code",
   "execution_count": 67,
   "metadata": {},
   "outputs": [
    {
     "data": {
      "text/plain": [
       "387358720.0"
      ]
     },
     "execution_count": 67,
     "metadata": {},
     "output_type": "execute_result"
    }
   ],
   "source": [
    "7720.0*224**2"
   ]
  },
  {
   "cell_type": "code",
   "execution_count": 29,
   "metadata": {},
   "outputs": [
    {
     "name": "stdout",
     "output_type": "stream",
     "text": [
      "19385.307238520407 12194386.0\n"
     ]
    }
   ],
   "source": [
    "path = '/media/victoria/d/Training/Eli/resnet50_pre_0_995_w_0_25_gm_0_2_w_0_5_w_1_w_2_custom_timing/net_e_140_simple'\n",
    "state_dict = torch.load(path)\n",
    "net = custom_resnet_50(state_dict['channels_config'], 1000)\n",
    "net.load_state_dict({k[7:]:v for k,v in state_dict['state_dict'].items()})\n",
    "print(*net.compute_flops_memory())"
   ]
  },
  {
   "cell_type": "code",
   "execution_count": null,
   "metadata": {},
   "outputs": [],
   "source": [
    "print(*net.compute_flops_memory(False))"
   ]
  },
  {
   "cell_type": "code",
   "execution_count": 5,
   "metadata": {},
   "outputs": [
    {
     "name": "stdout",
     "output_type": "stream",
     "text": [
      "22223.351482780614 8670406.0\n"
     ]
    }
   ],
   "source": [
    "net = PrunedResnet70()\n",
    "print(*net.compute_flops_memory())"
   ]
  },
  {
   "cell_type": "code",
   "execution_count": null,
   "metadata": {},
   "outputs": [],
   "source": []
  }
 ],
 "metadata": {
  "kernelspec": {
   "display_name": "Python 3",
   "language": "python",
   "name": "python3"
  },
  "language_info": {
   "codemirror_mode": {
    "name": "ipython",
    "version": 3
   },
   "file_extension": ".py",
   "mimetype": "text/x-python",
   "name": "python",
   "nbconvert_exporter": "python",
   "pygments_lexer": "ipython3",
   "version": "3.7.9"
  }
 },
 "nbformat": 4,
 "nbformat_minor": 4
}
