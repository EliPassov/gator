{
 "cells": [
  {
   "cell_type": "code",
   "execution_count": 2,
   "metadata": {},
   "outputs": [],
   "source": [
    "import os\n",
    "\n",
    "import torch\n",
    "from torchvision.models.resnet import resnet50\n",
    "from torchvision.models.mobilenet import mobilenet_v2\n",
    "from torchvision.models.squeezenet import squeezenet1_0, squeezenet1_1\n",
    "from torchvision.models.shufflenetv2 import shufflenet_v2_x1_0\n",
    "\n",
    "if os.path.basename(os.getcwd()) == 'analysis':\n",
    "    os.chdir('..')\n",
    "from external_models.dcp.pruned_resnet import PrunedResnet30, PrunedResnet50, PrunedResnet70\n",
    "from models.gate_wrapped_module import compute_flop_cost_change\n",
    "from models.custom_resnet import filter_mapping_from_default_resnet, custom_resnet_50, custom_resnet_56"
   ]
  },
  {
   "cell_type": "code",
   "execution_count": 37,
   "metadata": {},
   "outputs": [],
   "source": [
    "path = '/home/victoria/Downloads/resnet50-20210116T145733Z-001/resnet50/pretrain-resnet50-ratenorm1-ratedist0.3/best.resnet50.2018-07-03-1645.pth.tar'\n",
    "aaa = torch.load(path)"
   ]
  },
  {
   "cell_type": "code",
   "execution_count": 38,
   "metadata": {},
   "outputs": [
    {
     "data": {
      "text/plain": [
       "<All keys matched successfully>"
      ]
     },
     "execution_count": 38,
     "metadata": {},
     "output_type": "execute_result"
    }
   ],
   "source": [
    "state_dict = aaa['state_dict']\n",
    "state_dict = {k[7:]:v for k,v in state_dict.items()}\n",
    "net = resnet50(pretrained=False)\n",
    "net.load_state_dict(state_dict)"
   ]
  },
  {
   "cell_type": "code",
   "execution_count": 35,
   "metadata": {},
   "outputs": [],
   "source": [
    "def conv_weights_analysis(weights):\n",
    "    no_kernals = weights.sum(-1).sum(-1) != 0\n",
    "#     init_filters = no_kernals.size(0), no_kernals.size(1)\n",
    "    in_non_zero = (no_kernals.sum(0) > 0).sum().item()\n",
    "    out_non_zero = (no_kernals.sum(1) > 0).sum().item()\n",
    "    init_cost = weights.numel()\n",
    "    final_cost  = in_non_zero*out_non_zero *weights.size(2) * weights.size(3)\n",
    "    return init_cost, final_cost\n",
    "    "
   ]
  },
  {
   "cell_type": "code",
   "execution_count": 39,
   "metadata": {},
   "outputs": [
    {
     "name": "stdout",
     "output_type": "stream",
     "text": [
      "76888.8163265306 56149.066326530614 0.2697368875067948 1.369369454505077 25502912 19328471\n"
     ]
    }
   ],
   "source": [
    "downsample = 4\n",
    "res1, res2  = conv_weights_analysis(net.conv1.weight.data)\n",
    "orig_total = res1/4 \n",
    "orig_memory = res1\n",
    "new_total = res2/4\n",
    "new_memory = res2\n",
    "for l in range(1,5):\n",
    "    if l > 1:\n",
    "        downsample = downsample * 2\n",
    "    layer = getattr(net, 'layer' + str(l))\n",
    "    res1, res2  = conv_weights_analysis(layer[0].downsample[0].weight.data)\n",
    "    orig_total += res1/(downsample**2) \n",
    "    orig_memory += res1\n",
    "    new_total += res2/(downsample**2) \n",
    "    new_memory += res2\n",
    "    for i in range(len(layer)):\n",
    "        for j in range(1,4):\n",
    "            res1, res2  = conv_weights_analysis(getattr(layer[i],'conv'+str(j)).weight.data)\n",
    "            orig_total += res1/(downsample**2) \n",
    "            orig_memory += res1\n",
    "            new_total += res2/(downsample**2) \n",
    "            new_memory += res2\n",
    "fc_size = net.fc.in_features * net.fc.out_features\n",
    "fc_flops = fc_size / (224**2)\n",
    "\n",
    "orig_total += fc_flops\n",
    "orig_memory += fc_size\n",
    "new_total += fc_flops\n",
    "new_memory += fc_size\n",
    "\n",
    "print(orig_total, new_total, 1-new_total/orig_total, orig_total/new_total, orig_memory, new_memory)\n",
    "            "
   ]
  },
  {
   "cell_type": "code",
   "execution_count": 51,
   "metadata": {},
   "outputs": [],
   "source": [
    "def get_conv_cost(m, down):\n",
    "    assert isinstance(m, torch.nn.Conv2d)\n",
    "    res = m.in_channels * m.out_channels * m.kernel_size[0] * m.kernel_size[1]\n",
    "    return res / (m.groups * down**2), res"
   ]
  },
  {
   "cell_type": "code",
   "execution_count": 17,
   "metadata": {},
   "outputs": [],
   "source": []
  },
  {
   "cell_type": "code",
   "execution_count": 40,
   "metadata": {},
   "outputs": [
    {
     "name": "stdout",
     "output_type": "stream",
     "text": [
      "5994.385204081633 44015840 32\n"
     ]
    }
   ],
   "source": [
    "mob =mobilenet_v2(pretrained=False)\n",
    "downsample = 1\n",
    "flops = 0\n",
    "memory = 0\n",
    "for m in mob.modules():\n",
    "    if not isinstance(m, torch.nn.Conv2d):\n",
    "        if isinstance(m, torch.nn.Linear):\n",
    "            flops += m.in_features * m.out_features / (224**2)\n",
    "            memory +=m.in_features * m.out_features\n",
    "    else:\n",
    "        if m.stride[0] == 2:\n",
    "            downsample = 2 * downsample\n",
    "        flops += m.in_channels* m.out_channels* m.kernel_size[0]* m.kernel_size[1] / (m.groups * downsample**2)\n",
    "        memory += m.in_channels* m.out_channels* m.kernel_size[0]* m.kernel_size[1]\n",
    "print(flops, memory, downsample)"
   ]
  },
  {
   "cell_type": "code",
   "execution_count": 38,
   "metadata": {},
   "outputs": [
    {
     "data": {
      "text/plain": [
       "(12.8199969444195, 12.874787962555757)"
      ]
     },
     "execution_count": 38,
     "metadata": {},
     "output_type": "execute_result"
    }
   ],
   "source": [
    "76848 / 5994.385204081633 , 76848 / 5968.875"
   ]
  },
  {
   "cell_type": "code",
   "execution_count": 41,
   "metadata": {},
   "outputs": [
    {
     "data": {
      "text/plain": [
       "300774272.0"
      ]
     },
     "execution_count": 41,
     "metadata": {},
     "output_type": "execute_result"
    }
   ],
   "source": [
    "5994.385204081633 *224 *224"
   ]
  },
  {
   "cell_type": "code",
   "execution_count": 66,
   "metadata": {},
   "outputs": [
    {
     "name": "stdout",
     "output_type": "stream",
     "text": [
      "7720.0 1231552 16\n"
     ]
    }
   ],
   "source": [
    "sq_0 = False\n",
    "\n",
    "sq = squeezenet1_0(False) if sq_0 else squeezenet1_1(False)\n",
    "\n",
    "downsample = 4\n",
    "\n",
    "flops, memory = get_conv_cost(sq.features[0], 2)\n",
    "\n",
    "for i in range(3,13):\n",
    "    if i in ([6,11] if sq_0 else [5,8]):\n",
    "        downsample *= 2\n",
    "    else:\n",
    "        for m in sq.features[i].modules():\n",
    "            if isinstance(m, torch.nn.Conv2d):\n",
    "                if m.stride[0] == 2:\n",
    "                    downsample = 2 * downsample\n",
    "                f, m = get_conv_cost(m, downsample)\n",
    "                flops += f\n",
    "                memory += m\n",
    "f, m = get_conv_cost(sq.classifier[1], downsample)\n",
    "flops += f\n",
    "memory += m     \n",
    "\n",
    "print(flops, memory, downsample)"
   ]
  },
  {
   "cell_type": "code",
   "execution_count": 67,
   "metadata": {},
   "outputs": [
    {
     "data": {
      "text/plain": [
       "387358720.0"
      ]
     },
     "execution_count": 67,
     "metadata": {},
     "output_type": "execute_result"
    }
   ],
   "source": [
    "7720.0*224**2"
   ]
  },
  {
   "cell_type": "code",
   "execution_count": 29,
   "metadata": {},
   "outputs": [
    {
     "name": "stdout",
     "output_type": "stream",
     "text": [
      "19385.307238520407 12194386.0\n"
     ]
    }
   ],
   "source": [
    "path = '/media/victoria/d/Training/Eli/resnet50_pre_0_995_w_0_25_gm_0_2_w_0_5_w_1_w_2_custom_timing/net_e_140_simple'\n",
    "state_dict = torch.load(path)\n",
    "net = custom_resnet_50(state_dict['channels_config'], 1000)\n",
    "net.load_state_dict({k[7:]:v for k,v in state_dict['state_dict'].items()})\n",
    "print(*net.compute_flops_memory())"
   ]
  },
  {
   "cell_type": "code",
   "execution_count": null,
   "metadata": {},
   "outputs": [],
   "source": [
    "print(*net.compute_flops_memory(False))"
   ]
  },
  {
   "cell_type": "code",
   "execution_count": 5,
   "metadata": {},
   "outputs": [
    {
     "name": "stdout",
     "output_type": "stream",
     "text": [
      "22223.351482780614 8670406.0\n"
     ]
    }
   ],
   "source": [
    "net = PrunedResnet70()\n",
    "print(*net.compute_flops_memory())"
   ]
  },
  {
   "cell_type": "code",
   "execution_count": null,
   "metadata": {},
   "outputs": [],
   "source": []
  }
 ],
 "metadata": {
  "kernelspec": {
   "display_name": "Python 3",
   "language": "python",
   "name": "python3"
  },
  "language_info": {
   "codemirror_mode": {
    "name": "ipython",
    "version": 3
   },
   "file_extension": ".py",
   "mimetype": "text/x-python",
   "name": "python",
   "nbconvert_exporter": "python",
   "pygments_lexer": "ipython3",
   "version": "3.6.5"
  }
 },
 "nbformat": 4,
 "nbformat_minor": 4
}
