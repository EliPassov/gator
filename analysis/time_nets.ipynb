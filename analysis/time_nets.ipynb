{
 "cells": [
  {
   "cell_type": "code",
   "execution_count": 16,
   "metadata": {},
   "outputs": [],
   "source": [
    "import os\n",
    "from time import time, sleep\n",
    "\n",
    "from matplotlib import pyplot as plt\n",
    "import numpy as np\n",
    "import torch\n",
    "from torchvision.models.resnet import resnet50\n",
    "\n",
    "if os.path.basename(os.getcwd()) == 'analysis':\n",
    "    os.chdir('..')\n",
    "from models.gates_mapper import GatesModulesMapper, NaiveSequentialGatesModulesMapper, ResNetGatesModulesMapper\n",
    "from models.wrapped_gated_models import ResNet_gating, custom_resnet_from_gated_net, get_wrapped_gating_net_and_criteria\n",
    "from models.gate_wrapped_module import compute_flop_cost_change, create_conv_channels_dict, create_edge_to_channels_map, dot_string_to_tree_dict\n",
    "from models.custom_resnet import filter_mapping_from_default_resnet, custom_resnet_50\n"
   ]
  },
  {
   "cell_type": "code",
   "execution_count": 17,
   "metadata": {},
   "outputs": [],
   "source": [
    "def time_net(net, batch_size=8, run_times=1, measurements=40, lower_limit=0, upper_limit=500000, sleep_seconds=150, return_times=False):\n",
    "    net.eval()\n",
    "    total_times=[]\n",
    "    for r in range(run_times):\n",
    "        if r > 0:\n",
    "            sleep(sleep_seconds)\n",
    "        sample = torch.rand((batch_size,3,224,224)).cuda(1)\n",
    "        times = []\n",
    "        for i in range(measurements):\n",
    "            t = time()\n",
    "            res = net(sample)\n",
    "            aa = res[-1,-1].item()\n",
    "            times.append(time()-t)\n",
    "        times = np.array(times)\n",
    "        times = 1000 * times\n",
    "#         times.sort()\n",
    "#         times = times[lower_limit:upper_limit]\n",
    "        total_times.append(times)\n",
    "\n",
    "    net.train()\n",
    "\n",
    "    total_times=np.array(total_times)\n",
    "    \n",
    "    if return_times:\n",
    "        return total_times\n",
    "    else:\n",
    "        return(total_times.min())\n",
    "    \n",
    "#     remove_range=[]\n",
    "#     std = np.median(total_times.std(1))\n",
    "#     for i in range(len(total_times)):\n",
    "#         if total_times[i].mean() - np.median(total_times) > std:\n",
    "#             remove_range.append(i)\n",
    "    \n",
    "#     total_times = np.delete(total_times, remove_range, axis=0)\n",
    "\n",
    "#     print('25-75 mean, std, min, max (ms) \\t{:.2f}\\t{:.2f}\\t{:.2f}\\t{:.2f}'.format(times.mean(), times.std(), times.min(), times.max()))\n",
    "\n",
    "#     return total_times\n",
    "\n",
    "#     return times"
   ]
  },
  {
   "cell_type": "code",
   "execution_count": 22,
   "metadata": {},
   "outputs": [],
   "source": [
    "resnet_original = resnet50(True)\n",
    "resnet_original = resnet_original.cuda(1)\n",
    "times = time_net(resnet_original, batch_size=32, return_times=True)\n",
    "# print(time_net(resnet_original))\n",
    "# for i in range(10):\n",
    "#     times=time_net(resnet_original)\n",
    "#     print(np.array(times).min())\n",
    "#     sleep(20)\n",
    "# for i in range(10):\n",
    "#     times.append(time_net(resnet_original))\n",
    "#     sleep(1.0)\n",
    "    "
   ]
  },
  {
   "cell_type": "code",
   "execution_count": 25,
   "metadata": {},
   "outputs": [
    {
     "name": "stderr",
     "output_type": "stream",
     "text": [
      "/media/victoria/d/projects/gator/models/wrapped_gated_models.py:44: UserWarning: created gating module with 0 weight, make sure you are not training it\n",
      "  warnings.warn(\"created gating module with 0 weight, make sure you are not training it\")\n"
     ]
    }
   ],
   "source": [
    "# Resnet50\n",
    "net_name = 'resnet50'\n",
    "weight_path = '/media/victoria/d/Training/Eli/resnet50_pre_0_995_w_0_25_gm_0_2_w_0_5_w_1_custom_timing/net_e_110'\n",
    "no_last_conv=False\n",
    "base_net = resnet50(1000)\n",
    "custom_net = custom_resnet_from_gated_net(base_net, 'ResNet_gating', weight_path).cuda(1)\n"
   ]
  },
  {
   "cell_type": "code",
   "execution_count": 6,
   "metadata": {},
   "outputs": [],
   "source": [
    "# custom resnet 50\n",
    "net_name = 'custom_resnet_50'\n",
    "weight_path = '/media/victoria/d/Training/Eli/resnet50_pre_0_995_w_0_25_gm_0_2_w_0_5_timing_batch_32/net_e_60_simple'\n",
    "full_dict = torch.load(weight_path)\n",
    "state_dict = full_dict['state_dict']\n",
    "channels_config = full_dict['channels_config']\n",
    "net = custom_resnet_50(channels_config, 1000)\n",
    "\n",
    "# no_last_conv=False\n",
    "\n",
    "# net, aaa, _ = globals()[net_name](1000)\n",
    "\n",
    "\n",
    "state_dict = {k[11:]: v for k,v in state_dict.items()}\n",
    "net.load_state_dict(state_dict, strict=False)\n",
    "net = net.cuda(1)\n",
    "# mapper = ResNetGatesModulesMapper(net.net, no_last_conv, map_for_replacement=True)\n",
    "# custom_net = custom_resnet_from_gated_net(net_name, weight_path).cuda(1)"
   ]
  },
  {
   "cell_type": "code",
   "execution_count": 6,
   "metadata": {},
   "outputs": [
    {
     "name": "stdout",
     "output_type": "stream",
     "text": [
      "flop comperssion ratio: 1.46 original cost 76848.00 new cost 52639.88\n",
      "memory comperssion ratio: 1.11 original cost 23454912.00 new cost 21189636.00\n"
     ]
    }
   ],
   "source": [
    "for factor in ['flop', 'memory']:\n",
    "    original_cost, new_cost = compute_flop_cost_change(net, mapper, factor_type= factor + \"_factor\")\n",
    "    print(\"{} comperssion ratio: {:.2f} original cost {:.2f} new cost {:.2f}\".format(factor, original_cost/new_cost, original_cost, new_cost))"
   ]
  },
  {
   "cell_type": "code",
   "execution_count": 11,
   "metadata": {},
   "outputs": [
    {
     "name": "stdout",
     "output_type": "stream",
     "text": [
      "flop comperssion ratio: 1.37 original cost 76848.00 new cost 56277.48\n",
      "memory comperssion ratio: 1.06 original cost 23454912.00 new cost 22124172.00\n"
     ]
    }
   ],
   "source": [
    "for factor in ['flop', 'memory']:\n",
    "    original_cost, new_cost = compute_flop_cost_change(net, mapper, factor_type= factor + \"_factor\")\n",
    "    print(\"{} comperssion ratio: {:.2f} original cost {:.2f} new cost {:.2f}\".format(factor, original_cost/new_cost, original_cost, new_cost))"
   ]
  },
  {
   "cell_type": "code",
   "execution_count": 4,
   "metadata": {},
   "outputs": [
    {
     "name": "stdout",
     "output_type": "stream",
     "text": [
      "flop comperssion ratio: 2.00 original cost 76848.00 new cost 38474.25\n",
      "memory comperssion ratio: 1.26 original cost 23454912.00 new cost 18619922.00\n"
     ]
    }
   ],
   "source": [
    "for factor in ['flop', 'memory']:\n",
    "    original_cost, new_cost = compute_flop_cost_change(net, mapper, factor_type= factor + \"_factor\")\n",
    "    print(\"{} comperssion ratio: {:.2f} original cost {:.2f} new cost {:.2f}\".format(factor, original_cost/new_cost, original_cost, new_cost))"
   ]
  },
  {
   "cell_type": "code",
   "execution_count": 9,
   "metadata": {},
   "outputs": [
    {
     "name": "stdout",
     "output_type": "stream",
     "text": [
      "flop comperssion ratio: 1.93 original cost 76848.00 new cost 39736.22\n",
      "memory comperssion ratio: 1.24 original cost 23454912.00 new cost 18852860.00\n"
     ]
    }
   ],
   "source": [
    "for factor in ['flop', 'memory']:\n",
    "    original_cost, new_cost = compute_flop_cost_change(net, mapper, factor_type= factor + \"_factor\")\n",
    "    print(\"{} comperssion ratio: {:.2f} original cost {:.2f} new cost {:.2f}\".format(factor, original_cost/new_cost, original_cost, new_cost))"
   ]
  },
  {
   "cell_type": "code",
   "execution_count": 9,
   "metadata": {},
   "outputs": [
    {
     "name": "stdout",
     "output_type": "stream",
     "text": [
      "flop comperssion ratio: 2.68 original cost 76848.00 new cost 28684.06\n",
      "memory comperssion ratio: 1.52 original cost 23454912.00 new cost 15446608.00\n"
     ]
    }
   ],
   "source": [
    "for factor in ['flop', 'memory']:\n",
    "    original_cost, new_cost = compute_flop_cost_change(net, mapper, factor_type= factor + \"_factor\")\n",
    "    print(\"{} comperssion ratio: {:.2f} original cost {:.2f} new cost {:.2f}\".format(factor, original_cost/new_cost, original_cost, new_cost))"
   ]
  },
  {
   "cell_type": "code",
   "execution_count": 7,
   "metadata": {},
   "outputs": [
    {
     "name": "stdout",
     "output_type": "stream",
     "text": [
      "flop comperssion ratio: 4.28 original cost 76848.00 new cost 17971.34\n",
      "memory comperssion ratio: 2.50 original cost 23454912.00 new cost 9397143.00\n"
     ]
    }
   ],
   "source": [
    "for factor in ['flop', 'memory']:\n",
    "    original_cost, new_cost = compute_flop_cost_change(net, mapper, factor_type= factor + \"_factor\")\n",
    "    print(\"{} comperssion ratio: {:.2f} original cost {:.2f} new cost {:.2f}\".format(factor, original_cost/new_cost, original_cost, new_cost))"
   ]
  },
  {
   "cell_type": "code",
   "execution_count": 4,
   "metadata": {},
   "outputs": [
    {
     "name": "stdout",
     "output_type": "stream",
     "text": [
      "flop comperssion ratio: 7.21 original cost 76848.00 new cost 10658.53\n",
      "memory comperssion ratio: 4.49 original cost 23454912.00 new cost 5228501.00\n"
     ]
    }
   ],
   "source": [
    "for factor in ['flop', 'memory']:\n",
    "    original_cost, new_cost = compute_flop_cost_change(net, mapper, factor_type= factor + \"_factor\")\n",
    "    print(\"{} comperssion ratio: {:.2f} original cost {:.2f} new cost {:.2f}\".format(factor, original_cost/new_cost, original_cost, new_cost))"
   ]
  },
  {
   "cell_type": "code",
   "execution_count": 9,
   "metadata": {},
   "outputs": [
    {
     "data": {
      "text/plain": [
       "12.209177017211914"
      ]
     },
     "execution_count": 9,
     "metadata": {},
     "output_type": "execute_result"
    }
   ],
   "source": [
    "time_net(custom_net)"
   ]
  },
  {
   "cell_type": "code",
   "execution_count": 13,
   "metadata": {},
   "outputs": [
    {
     "data": {
      "text/plain": [
       "11.297225952148438"
      ]
     },
     "execution_count": 13,
     "metadata": {},
     "output_type": "execute_result"
    }
   ],
   "source": [
    "time_net(custom_net)"
   ]
  },
  {
   "cell_type": "code",
   "execution_count": 15,
   "metadata": {},
   "outputs": [
    {
     "data": {
      "text/plain": [
       "11.02447509765625"
      ]
     },
     "execution_count": 15,
     "metadata": {},
     "output_type": "execute_result"
    }
   ],
   "source": [
    "time_net(custom_net)"
   ]
  },
  {
   "cell_type": "code",
   "execution_count": 18,
   "metadata": {},
   "outputs": [
    {
     "data": {
      "text/plain": [
       "9.547233581542969"
      ]
     },
     "execution_count": 18,
     "metadata": {},
     "output_type": "execute_result"
    }
   ],
   "source": [
    "time_net(custom_net)"
   ]
  },
  {
   "cell_type": "code",
   "execution_count": 11,
   "metadata": {},
   "outputs": [
    {
     "data": {
      "text/plain": [
       "9.53531265258789"
      ]
     },
     "execution_count": 11,
     "metadata": {},
     "output_type": "execute_result"
    }
   ],
   "source": [
    "time_net(custom_net)"
   ]
  },
  {
   "cell_type": "code",
   "execution_count": 34,
   "metadata": {},
   "outputs": [
    {
     "data": {
      "text/plain": [
       "7.979869842529297"
      ]
     },
     "execution_count": 34,
     "metadata": {},
     "output_type": "execute_result"
    }
   ],
   "source": [
    "time_net(custom_net)"
   ]
  },
  {
   "cell_type": "code",
   "execution_count": 27,
   "metadata": {},
   "outputs": [
    {
     "data": {
      "text/plain": [
       "26.821613311767578"
      ]
     },
     "execution_count": 27,
     "metadata": {},
     "output_type": "execute_result"
    }
   ],
   "source": [
    "time_net(custom_net, batch_size=32)"
   ]
  },
  {
   "cell_type": "code",
   "execution_count": 26,
   "metadata": {},
   "outputs": [
    {
     "data": {
      "text/plain": [
       "9.074926376342773"
      ]
     },
     "execution_count": 26,
     "metadata": {},
     "output_type": "execute_result"
    }
   ],
   "source": [
    "time_net(custom_net, batch_size=8)"
   ]
  },
  {
   "cell_type": "code",
   "execution_count": 24,
   "metadata": {},
   "outputs": [
    {
     "data": {
      "text/plain": [
       "10.03265380859375"
      ]
     },
     "execution_count": 24,
     "metadata": {},
     "output_type": "execute_result"
    }
   ],
   "source": [
    "from torchvision.models.mobilenet import mobilenet_v2\n",
    "from torchvision.models.shufflenetv2 import shufflenet_v2_x1_0\n",
    "from torchvision.models.squeezenet import squeezenet1_0, squeezenet1_1\n",
    "\n",
    "net = squeezenet1_1().cuda(1)\n",
    "time_net(net, batch_size=32)"
   ]
  },
  {
   "cell_type": "code",
   "execution_count": 23,
   "metadata": {},
   "outputs": [
    {
     "data": {
      "text/plain": [
       "array([15, 30, 24,  9, 34,  8, 12, 30,  9, 11])"
      ]
     },
     "execution_count": 23,
     "metadata": {},
     "output_type": "execute_result"
    }
   ],
   "source": [
    "times.argmin(1)"
   ]
  },
  {
   "cell_type": "code",
   "execution_count": 10,
   "metadata": {},
   "outputs": [
    {
     "data": {
      "text/plain": [
       "(1.6146767109062934,\n",
       " 1.4833682948756368,\n",
       " 1.4643492957649662,\n",
       " 1.2846020761245676,\n",
       " 1.0885204412715759,\n",
       " 1.1399244349523912,\n",
       " 0.13130841603065657,\n",
       " 0.17974721964039864)"
      ]
     },
     "execution_count": 10,
     "metadata": {},
     "output_type": "execute_result"
    }
   ],
   "source": [
    "50.79010546207428/31.455278396606445, 14.162063598632812/9.547233581542969, 50.79010546207428/34.68441963195801, 14.162063598632812/11.02447509765625, 1.6146767109062934/1.4833682948756368, 1.4643492957649662/1.2846020761245676, 1.6146767109062934-1.4833682948756368, 1.4643492957649662-1.2846020761245676"
   ]
  },
  {
   "cell_type": "code",
   "execution_count": 36,
   "metadata": {},
   "outputs": [
    {
     "data": {
      "text/plain": [
       "(50.79010546207428, 50.82206428050995)"
      ]
     },
     "execution_count": 36,
     "metadata": {},
     "output_type": "execute_result"
    }
   ],
   "source": [
    "mm=times.mean(1)\n",
    "mm[np.absolute((mm-mm.mean())/mm.std())<1.5].std(), mm.std()\n",
    "mm.mean(), np.median(mm)"
   ]
  },
  {
   "cell_type": "code",
   "execution_count": 24,
   "metadata": {},
   "outputs": [
    {
     "data": {
      "text/plain": [
       "0.009096410515431495"
      ]
     },
     "execution_count": 24,
     "metadata": {},
     "output_type": "execute_result"
    }
   ],
   "source": [
    "ttt=times.min(1)\n",
    "(ttt.max()-ttt.min())/ttt[0]"
   ]
  },
  {
   "cell_type": "code",
   "execution_count": null,
   "metadata": {},
   "outputs": [],
   "source": [
    "plt.figure(figsize=(20,12))\n",
    "plt.plot(times.min(1))"
   ]
  },
  {
   "cell_type": "code",
   "execution_count": null,
   "metadata": {},
   "outputs": [],
   "source": [
    "plt.figure(figsize=(20,12))\n",
    "tt = times[0]\n",
    "# for i in range(len(tt)):\n",
    "plt.plot(tt)\n",
    "plt.legend(loc='best')\n",
    "print(tt.min())"
   ]
  },
  {
   "cell_type": "code",
   "execution_count": null,
   "metadata": {},
   "outputs": [],
   "source": [
    "for i in range(len(times)):\n",
    "    print(((times[i][1:]-times[i][:-1])<0).sum())"
   ]
  },
  {
   "cell_type": "code",
   "execution_count": 5,
   "metadata": {},
   "outputs": [
    {
     "data": {
      "text/plain": [
       "13.3"
      ]
     },
     "execution_count": 5,
     "metadata": {},
     "output_type": "execute_result"
    }
   ],
   "source": [
    "180*38*7/3600"
   ]
  },
  {
   "cell_type": "code",
   "execution_count": 14,
   "metadata": {},
   "outputs": [
    {
     "name": "stderr",
     "output_type": "stream",
     "text": [
      "/media/victoria/d/projects/gator/models/wrapped_gated_models.py:37: UserWarning: created gating module with 0 weight, make sure you are not training it\n",
      "  warnings.warn(\"created gating module with 0 weight, make sure you are not training it\")\n"
     ]
    },
    {
     "name": "stdout",
     "output_type": "stream",
     "text": [
      " 0, 100.0000,  49.5400\n",
      " 1,  97.6369,  48.1954\n",
      " 2,  98.3344,  49.4068\n",
      " 3,  97.8347,  49.1486\n",
      " 4,  97.8347,  49.2971\n",
      " 5,  97.8347,  49.2303\n",
      " 6,  97.8347,  49.4194\n",
      " 7,  97.8347,  49.0959\n",
      " 8,  94.3369,  44.4860\n",
      " 9,  98.1678,  47.2078\n",
      "10,  97.8347,  48.6755\n",
      "11,  97.8347,  49.2513\n",
      "12,  97.8347,  49.2074\n",
      "13,  97.8347,  49.3271\n",
      "14,  97.8347,  49.1140\n",
      "15,  97.8347,  49.2806\n",
      "16,  97.8347,  49.2270\n",
      "17,  92.3381,  45.3217\n",
      "18,  98.1678,  48.9736\n",
      "19,  97.8347,  49.1097\n",
      "20,  97.8347,  48.7685\n",
      "21,  97.8347,  49.1083\n",
      "22,  97.8347,  48.8839\n",
      "23,  97.8347,  49.2277\n",
      "24,  97.8347,  48.8763\n",
      "25,  97.8347,  49.0367\n",
      "26,  97.8347,  48.8811\n",
      "27,  97.8347,  49.1121\n",
      "28,  97.8347,  48.7962\n",
      "29,  97.8347,  49.1204\n",
      "30,  89.6731,  45.3324\n",
      "31,  98.1678,  48.8787\n",
      "32,  97.8347,  49.2988\n",
      "33,  97.8347,  49.4521\n",
      "34,  97.8347,  49.3405\n",
      "35,  97.8347,  49.4184\n",
      "36,  97.8347,  49.3603\n",
      "37,  95.3362,  48.0559\n",
      " 0, 100.0000,  49.8474\n",
      " 1,  97.6369,  48.3937\n",
      " 2,  98.3344,  49.5160\n",
      " 3,  97.8347,  49.1157\n",
      " 4,  97.8347,  49.5081\n",
      " 5,  97.8347,  49.3240\n",
      " 6,  97.8347,  49.5052\n",
      " 7,  97.8347,  49.2249\n",
      " 8,  94.3369,  44.7042\n",
      " 9,  98.1678,  47.2476\n",
      "10,  97.8347,  48.8265\n",
      "11,  97.8347,  49.5427\n",
      "12,  97.8347,  49.3019\n",
      "13,  97.8347,  49.4292\n",
      "14,  97.8347,  49.4721\n",
      "15,  97.8347,  49.2640\n",
      "16,  97.8347,  49.4645\n",
      "17,  92.3381,  45.4624\n",
      "18,  98.1678,  48.9836\n",
      "19,  97.8347,  49.0415\n",
      "20,  97.8347,  48.9709\n",
      "21,  97.8347,  49.0763\n",
      "22,  97.8347,  49.1023\n",
      "23,  97.8347,  49.0878\n",
      "24,  97.8347,  48.9249\n",
      "25,  97.8347,  49.1879\n",
      "26,  97.8347,  48.9275\n",
      "27,  97.8347,  49.2537\n",
      "28,  97.8347,  49.0422\n",
      "29,  97.8347,  49.2253\n",
      "30,  89.6731,  45.3489\n",
      "31,  98.1678,  48.9581\n",
      "32,  97.8347,  49.4230\n",
      "33,  97.8347,  49.5961\n",
      "34,  97.8347,  49.5999\n",
      "35,  97.8347,  49.2766\n",
      "36,  97.8347,  49.4308\n",
      "37,  95.3362,  48.0011\n",
      " 0, 100.0000,  49.8283\n",
      " 1,  97.6369,  48.4452\n",
      " 2,  98.3344,  49.4890\n",
      " 3,  97.8347,  49.3963\n",
      " 4,  97.8347,  49.4885\n",
      " 5,  97.8347,  49.2949\n",
      " 6,  97.8347,  49.4375\n",
      " 7,  97.8347,  49.2020\n",
      " 8,  94.3369,  44.7683\n",
      " 9,  98.1678,  47.5128\n",
      "10,  97.8347,  48.8710\n",
      "11,  97.8347,  49.3114\n",
      "12,  97.8347,  49.3500\n",
      "13,  97.8347,  49.4995\n",
      "14,  97.8347,  49.1729\n",
      "15,  97.8347,  49.3772\n",
      "16,  97.8347,  49.4695\n",
      "17,  92.3381,  45.4652\n",
      "18,  98.1678,  48.9433\n",
      "19,  97.8347,  49.2272\n",
      "20,  97.8347,  49.0491\n",
      "21,  97.8347,  49.1815\n",
      "22,  97.8347,  49.0615\n",
      "23,  97.8347,  49.2480\n",
      "24,  97.8347,  49.0508\n",
      "25,  97.8347,  49.1936\n",
      "26,  97.8347,  49.0196\n",
      "27,  97.8347,  49.1576\n",
      "28,  97.8347,  49.0382\n",
      "29,  97.8347,  49.3352\n",
      "30,  89.6731,  45.4476\n",
      "31,  98.1678,  48.8927\n",
      "32,  97.8347,  49.3162\n",
      "33,  97.8347,  49.4833\n",
      "34,  97.8347,  49.5613\n",
      "35,  97.8347,  49.5694\n",
      "36,  97.8347,  49.5038\n",
      "37,  95.3362,  48.0061\n",
      " 0, 100.0000,  49.7620\n",
      " 1,  97.6369,  48.3909\n",
      " 2,  98.3344,  49.5799\n",
      " 3,  97.8347,  49.2601\n",
      " 4,  97.8347,  49.6435\n",
      " 5,  97.8347,  49.3817\n",
      " 6,  97.8347,  49.4864\n",
      " 7,  97.8347,  49.3953\n",
      " 8,  94.3369,  44.6656\n",
      " 9,  98.1678,  47.1847\n",
      "10,  97.8347,  48.7731\n",
      "11,  97.8347,  49.4089\n",
      "12,  97.8347,  49.5138\n",
      "13,  97.8347,  49.5031\n",
      "14,  97.8347,  49.3863\n",
      "15,  97.8347,  49.3004\n",
      "16,  97.8347,  49.2861\n",
      "17,  92.3381,  45.2290\n",
      "18,  98.1678,  48.9650\n",
      "19,  97.8347,  49.2315\n",
      "20,  97.8347,  49.1822\n",
      "21,  97.8347,  49.2165\n",
      "22,  97.8347,  48.9140\n",
      "23,  97.8347,  49.3658\n",
      "24,  97.8347,  49.1154\n",
      "25,  97.8347,  49.1350\n",
      "26,  97.8347,  49.1054\n",
      "27,  97.8347,  49.3045\n",
      "28,  97.8347,  49.0575\n",
      "29,  97.8347,  49.3824\n",
      "30,  89.6731,  45.4357\n",
      "31,  98.1678,  48.9788\n",
      "32,  97.8347,  49.3569\n",
      "33,  97.8347,  49.4299\n",
      "34,  97.8347,  49.6962\n",
      "35,  97.8347,  49.4831\n",
      "36,  97.8347,  49.5276\n",
      "37,  95.3362,  48.0928\n",
      " 0, 100.0000,  49.8722\n",
      " 1,  97.6369,  48.4860\n",
      " 2,  98.3344,  49.6032\n",
      " 3,  97.8347,  49.4506\n",
      " 4,  97.8347,  49.5703\n",
      " 5,  97.8347,  49.3279\n",
      " 6,  97.8347,  49.5100\n",
      " 7,  97.8347,  49.3512\n",
      " 8,  94.3369,  44.7745\n",
      " 9,  98.1678,  47.3745\n",
      "10,  97.8347,  48.8431\n",
      "11,  97.8347,  49.3264\n",
      "12,  97.8347,  49.4878\n",
      "13,  97.8347,  49.4466\n",
      "14,  97.8347,  49.5801\n",
      "15,  97.8347,  49.5672\n",
      "16,  97.8347,  49.3143\n",
      "17,  92.3381,  45.3458\n",
      "18,  98.1678,  49.0274\n",
      "19,  97.8347,  49.3360\n",
      "20,  97.8347,  49.0694\n",
      "21,  97.8347,  49.1474\n",
      "22,  97.8347,  49.0220\n",
      "23,  97.8347,  49.2694\n",
      "24,  97.8347,  49.0503\n",
      "25,  97.8347,  49.2008\n",
      "26,  97.8347,  49.0382\n",
      "27,  97.8347,  49.2458\n",
      "28,  97.8347,  49.0525\n",
      "29,  97.8347,  49.3960\n",
      "30,  89.6731,  45.4545\n",
      "31,  98.1678,  49.1230\n",
      "32,  97.8347,  49.3889\n",
      "33,  97.8347,  49.5563\n",
      "34,  97.8347,  49.4580\n",
      "35,  97.8347,  49.4914\n",
      "36,  97.8347,  49.5648\n",
      "37,  95.3362,  48.0576\n",
      " 0, 100.0000,  49.9773\n",
      " 1,  97.6369,  48.5184\n",
      " 2,  98.3344,  49.5734\n",
      " 3,  97.8347,  49.3958\n",
      " 4,  97.8347,  49.5541\n",
      " 5,  97.8347,  49.2885\n",
      " 6,  97.8347,  49.4242\n",
      " 7,  97.8347,  49.3383\n",
      " 8,  94.3369,  44.8353\n",
      " 9,  98.1678,  47.5242\n",
      "10,  97.8347,  48.7900\n",
      "11,  97.8347,  49.5694\n",
      "12,  97.8347,  49.3724\n",
      "13,  97.8347,  49.4652\n",
      "14,  97.8347,  49.4089\n",
      "15,  97.8347,  49.4773\n",
      "16,  97.8347,  49.4211\n",
      "17,  92.3381,  45.3403\n",
      "18,  98.1678,  48.9786\n",
      "19,  97.8347,  49.3970\n",
      "20,  97.8347,  49.0787\n",
      "21,  97.8347,  49.2721\n",
      "22,  97.8347,  48.8958\n",
      "23,  97.8347,  49.2315\n",
      "24,  97.8347,  48.9576\n",
      "25,  97.8347,  49.2713\n",
      "26,  97.8347,  49.0577\n",
      "27,  97.8347,  49.2883\n",
      "28,  97.8347,  49.0401\n",
      "29,  97.8347,  49.0510\n",
      "30,  89.6731,  45.4962\n",
      "31,  98.1678,  49.1307\n",
      "32,  97.8347,  49.3214\n",
      "33,  97.8347,  49.5994\n",
      "34,  97.8347,  49.5152\n",
      "35,  97.8347,  49.4606\n",
      "36,  97.8347,  49.4940\n",
      "37,  95.3362,  47.9310\n",
      " 0, 100.0000,  49.8202\n",
      " 1,  97.6369,  48.5089\n",
      " 2,  98.3344,  49.7563\n",
      " 3,  97.8347,  49.3658\n",
      " 4,  97.8347,  49.4683\n",
      " 5,  97.8347,  49.2821\n",
      " 6,  97.8347,  49.5422\n",
      " 7,  97.8347,  49.3615\n",
      " 8,  94.3369,  44.7550\n",
      " 9,  98.1678,  47.4243\n",
      "10,  97.8347,  48.8808\n",
      "11,  97.8347,  49.6259\n",
      "12,  97.8347,  49.5112\n",
      "13,  97.8347,  49.4537\n",
      "14,  97.8347,  49.2704\n",
      "15,  97.8347,  49.5276\n",
      "16,  97.8347,  49.5467\n",
      "17,  92.3381,  45.4810\n",
      "18,  98.1678,  48.9593\n",
      "19,  97.8347,  49.1178\n",
      "20,  97.8347,  49.0639\n",
      "21,  97.8347,  49.2597\n",
      "22,  97.8347,  49.1679\n",
      "23,  97.8347,  49.2969\n",
      "24,  97.8347,  49.0444\n",
      "25,  97.8347,  49.3419\n",
      "26,  97.8347,  49.1889\n",
      "27,  97.8347,  49.3765\n",
      "28,  97.8347,  49.1760\n",
      "29,  97.8347,  49.1149\n",
      "30,  89.6731,  45.3944\n",
      "31,  98.1678,  48.9991\n",
      "32,  97.8347,  49.5000\n",
      "33,  97.8347,  49.5434\n",
      "34,  97.8347,  49.4139\n",
      "35,  97.8347,  49.6106\n",
      "36,  97.8347,  49.4480\n",
      "37,  95.3362,  48.0733\n"
     ]
    }
   ],
   "source": [
    "net, _, _ = ResNet_gating(1000)\n",
    "mapper = ResNetGatesModulesMapper(net.net, False, False)\n",
    "hyper_edge_to_channels = create_edge_to_channels_map(mapper, net.forward_hooks)\n",
    "hyper_edge_to_channel_number = {k:v.size(0) for k,v in hyper_edge_to_channels.items()}\n",
    "\n",
    "\n",
    "original_cost = 76848.00\n",
    "\n",
    "channels_config = filter_mapping_from_default_resnet(resnet50(False))\n",
    "orig_resnet = custom_resnet_50(channels_config)\n",
    "orig_resnet = orig_resnet.cuda(1)\n",
    "\n",
    "\n",
    "for _ in range(7):\n",
    "    print(\"{:2d}, {:8.4f}, {:8.4f}\".format(0, 100, time_net(orig_resnet, run_times=1, batch_size=32, measurements=40, sleep_seconds=0)))\n",
    "    sleep(180)\n",
    "    for i, (_,ch_num_change) in enumerate(hyper_edge_to_channel_number.items()):\n",
    "        conv_channels_dict = {}\n",
    "        ch_num_change = int(ch_num_change * 0.5)\n",
    "        for j, (hyper_edge, ch_num_keep) in enumerate(hyper_edge_to_channel_number.items()):\n",
    "            num_channels = hyper_edge_to_channel_number[hyper_edge]\n",
    "            # take only out channels of convolutions\n",
    "            num_channels = ch_num_change if i==j else ch_num_keep\n",
    "            for k, (_, s) in enumerate(hyper_edge.convs_and_sides):\n",
    "                if not s:\n",
    "                    dot_string_to_tree_dict(conv_channels_dict, hyper_edge.conv_names[k], num_channels)\n",
    "\n",
    "        custom_net = custom_resnet_50(conv_channels_dict).cuda(1)\n",
    "        new_cost, _ = custom_net.compute_flops_memory()\n",
    "        print(\"{:2d}, {:8.4f}, {:8.4f}\".format(i+1, 100*new_cost/original_cost, time_net(custom_net, run_times=1, batch_size=32, measurements=40, sleep_seconds=0)))\n",
    "        sleep(180)"
   ]
  },
  {
   "cell_type": "code",
   "execution_count": null,
   "metadata": {},
   "outputs": [],
   "source": []
  }
 ],
 "metadata": {
  "kernelspec": {
   "display_name": "Python 3",
   "language": "python",
   "name": "python3"
  },
  "language_info": {
   "codemirror_mode": {
    "name": "ipython",
    "version": 3
   },
   "file_extension": ".py",
   "mimetype": "text/x-python",
   "name": "python",
   "nbconvert_exporter": "python",
   "pygments_lexer": "ipython3",
   "version": "3.6.5"
  }
 },
 "nbformat": 4,
 "nbformat_minor": 4
}
