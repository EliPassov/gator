{
 "cells": [
  {
   "cell_type": "code",
   "execution_count": 2,
   "metadata": {},
   "outputs": [],
   "source": [
    "from copy import deepcopy\n",
    "import os\n",
    "# change to root folder\n",
    "if os.path.basename(os.getcwd()) == 'analysis':\n",
    "    os.chdir('..')\n",
    "    \n",
    "from time import time\n",
    "\n",
    "import matplotlib\n",
    "import numpy as np\n",
    "import matplotlib.pyplot as plt\n",
    "import seaborn as sns\n",
    "import torch\n",
    "from torch.utils.data import DataLoader\n",
    "from torchvision.models.resnet import resnet50\n",
    "from models.vgg_fully_convolutional import *\n",
    "\n",
    "from data.dataset_factory import cifar_transform_test\n",
    "from data.dataset import CIFARDataset\n",
    "from eval import GenericEvaluator\n",
    "from utils.net_utils import load_net, NetWithResult\n",
    "from utils.run_arg_parser import parse_net_args_inner, NET_LOAD_TYPE\n",
    "from utils.forward_hooks import OutputHook\n",
    "from models.custom_resnet import custom_resnet_18, custom_resnet_34, custom_resnet_50, filter_mapping_from_default_resnet\n",
    "from models.net_auxiliary_extension import NetWithAuxiliaryOutputs\n",
    "from models.gated_grouped_conv import create_target_mask\n",
    "from models.gates_mapper import GatesModulesMapper, NaiveSequentialGatesModulesMapper, ResNetGatesModulesMapper\n",
    "from models.gate_wrapped_module import compute_flop_cost_change, compute_flop_cost, create_conv_channels_dict, create_edge_to_channels_map\n",
    "from models.wrapped_models import ResNet18_gating_hard_simple_l1_combined_masked_adaptive_static, VGG16BnDropV2_gating_hard_simple_l1_static_naive_combined_masked_adaptive_generic\n",
    "from models.wrapped_gated_models import ResNet18_gating, ResNet34_gating, ResNet50_gating\n",
    "from models.gated_prunning import prune_net_with_hooks, prune_net_with_hooks\n",
    "\n",
    "from external_models.dcp.pruned_resnet import PrunedResnet50"
   ]
  },
  {
   "cell_type": "code",
   "execution_count": 3,
   "metadata": {},
   "outputs": [],
   "source": [
    "# VGG\n",
    "net_name = 'VGG16_gating_hard_simple_l1_static_naive_combined_masked_adaptive_generic_rand'\n",
    "weight_path = '/home/eli/Eli/Training/Cifar10/VGG16_memory/VGG16_trained_gating_hard_simple_l1_static_naive_combined_masked_adaptive_generic_0_20_from_0_10_from_c_0_05_mult_500000_init_0_99_schedule_80_memory_rand/net_backup.pt'\n",
    "\n",
    "# Resnet18\n",
    "net_name = 'ResNet18_gating_hard_simple_l1_combined_masked_adaptive_static'\n",
    "weight_path = '/home/eli/Eli/Training/Imagenet/resnet18/resnet18_pre_l1_static_init_0_995_m_50000_w_4_0_adaptive_from_w_2_0_w_1_0/net_e_54'\n",
    "\n",
    "# Resnet50\n",
    "net_name = 'ResNet50_gating'\n",
    "weight_path = '/media/eli/0FBF-BADB/resnet50/resnet50_pre_0_995_w_0_25_gm_0_2_memory_with_mult_increasing/net_e_23'\n",
    "\n",
    "\n",
    "no_last_conv=False\n",
    "\n",
    "if 'resnet' in net_name.lower():\n",
    "    net, aaa = globals()[net_name](1000)\n",
    "    state_dict = torch.load(weight_path)['state_dict']\n",
    "    state_dict = {k[7:]: v for k,v in state_dict.items()}\n",
    "    net.load_state_dict(state_dict)\n",
    "    mapper = ResNetGatesModulesMapper(net.net, no_last_conv, map_for_replacement=True)\n",
    "else:\n",
    "    load_type = NET_LOAD_TYPE.WithCriterion\n",
    "    net = load_net(weight_path, parse_net_args_inner(load_type, net_name, 10, False))\n",
    "    no_last_conv = False\n",
    "    mapper = NaiveSequentialGatesModulesMapper(net, no_last_conv)\n",
    "\n",
    "    \n",
    "# net, cri = globals()[net_name](10)\n",
    "# state_dict = torch.load(weight_path)#['state_dict']\n",
    "# state_dict = {k: v for k,v in state_dict.items()}\n",
    "# net.load_state_dict(state_dict)\n",
    "# mapper = NaiveSequentialGatesModulesMapper(net.net, no_last_conv)\n",
    "\n",
    "    "
   ]
  },
  {
   "cell_type": "code",
   "execution_count": 8,
   "metadata": {},
   "outputs": [
    {
     "name": "stdout",
     "output_type": "stream",
     "text": [
      "flop cost 33968.0\n",
      "memory cost 10287296\n"
     ]
    }
   ],
   "source": [
    "net_name = 'PrunedResnet50'\n",
    "weight_path = '/home/eli/Downloads/resnet50_pruned0.5.pth'\n",
    "net = PrunedResnet50()\n",
    "net.load_state_dict(torch.load(weight_path))\n",
    "mapper = ResNetGatesModulesMapper(net, False, map_for_replacement=True)\n",
    "for factor in ['flop', 'memory']:\n",
    "    print(factor + ' cost', compute_flop_cost(net, mapper, factor + \"_factor\"))"
   ]
  },
  {
   "cell_type": "code",
   "execution_count": 4,
   "metadata": {},
   "outputs": [
    {
     "name": "stdout",
     "output_type": "stream",
     "text": [
      "flop comperssion ratio: 1.22 original cost 76848.00 new cost 63065.72\n",
      "memory comperssion ratio: 1.20 original cost 23454912.00 new cost 19557007.00\n"
     ]
    }
   ],
   "source": [
    "for factor in ['flop', 'memory']:\n",
    "    original_cost, new_cost = compute_flop_cost_change(net, mapper, factor_type= factor + \"_factor\")\n",
    "    print(\"{} comperssion ratio: {:.2f} original cost {:.2f} new cost {:.2f}\".format(factor, original_cost/new_cost, original_cost, new_cost))\n",
    "#     if 'factor' == 'memory'"
   ]
  },
  {
   "cell_type": "code",
   "execution_count": null,
   "metadata": {},
   "outputs": [],
   "source": [
    "def time_net(net):\n",
    "    net.eval()\n",
    "    sample = torch.rand((16,3,224,224)).cuda()\n",
    "    times = []\n",
    "    for i in range(100):\n",
    "        t = time()\n",
    "        net(sample)\n",
    "        times.append(time()-t)\n",
    "    net.train()\n",
    "    times = np.array(times)\n",
    "    times = 1000 * times\n",
    "    times.sort()\n",
    "    times = times[25:75]\n",
    "    \n",
    "    print('25-75 mean, std, min, max (ms) \\t{:.2f}\\t{:.2f}\\t{:.2f}\\t{:.2f}'.format(times.mean(), times.std(), times.min(), times.max()))"
   ]
  },
  {
   "cell_type": "code",
   "execution_count": 3,
   "metadata": {},
   "outputs": [
    {
     "data": {
      "text/plain": [
       "IncompatibleKeys(missing_keys=[], unexpected_keys=[])"
      ]
     },
     "execution_count": 3,
     "metadata": {},
     "output_type": "execute_result"
    }
   ],
   "source": [
    "custom_net_func = None\n",
    "for ind in ['18','34','50']:\n",
    "    if ind in net_name:\n",
    "        custom_net_func = globals()['custom_resnet_' + ind]\n",
    "\n",
    "channels_config, state_dict = create_conv_channels_dict(net, mapper)\n",
    "# out = create_conv_channels_dict(net, mapper)\n",
    "custom_net = custom_net_func(channels_config)\n",
    "custom_net.load_state_dict(state_dict)"
   ]
  },
  {
   "cell_type": "code",
   "execution_count": 7,
   "metadata": {},
   "outputs": [
    {
     "data": {
      "text/plain": [
       "{'conv1': 44,\n",
       " 'layer1': {'0': {'conv1': 41, 'conv2': 28, 'downsample': 99, 'conv3': 99},\n",
       "  '1': {'conv1': 28, 'conv2': 20, 'conv3': 99},\n",
       "  '2': {'conv1': 25, 'conv2': 38, 'conv3': 99}},\n",
       " 'layer2': {'0': {'conv1': 42, 'conv2': 112, 'downsample': 297, 'conv3': 297},\n",
       "  '1': {'conv1': 39, 'conv2': 61, 'conv3': 297},\n",
       "  '2': {'conv1': 71, 'conv2': 66, 'conv3': 297},\n",
       "  '3': {'conv1': 68, 'conv2': 80, 'conv3': 297}},\n",
       " 'layer3': {'0': {'conv1': 232, 'conv2': 225, 'downsample': 862, 'conv3': 862},\n",
       "  '1': {'conv1': 177, 'conv2': 199, 'conv3': 862},\n",
       "  '2': {'conv1': 142, 'conv2': 204, 'conv3': 862},\n",
       "  '3': {'conv1': 193, 'conv2': 141, 'conv3': 862},\n",
       "  '4': {'conv1': 194, 'conv2': 177, 'conv3': 862},\n",
       "  '5': {'conv1': 233, 'conv2': 195, 'conv3': 862}},\n",
       " 'layer4': {'0': {'conv1': 493,\n",
       "   'conv2': 505,\n",
       "   'downsample': 2048,\n",
       "   'conv3': 2048},\n",
       "  '1': {'conv1': 506, 'conv2': 512, 'conv3': 2048},\n",
       "  '2': {'conv1': 512, 'conv2': 512, 'conv3': 2048}}}"
      ]
     },
     "execution_count": 7,
     "metadata": {},
     "output_type": "execute_result"
    }
   ],
   "source": [
    "channels_config"
   ]
  },
  {
   "cell_type": "code",
   "execution_count": 4,
   "metadata": {},
   "outputs": [],
   "source": [
    "def save_net(net, file_path, custom_channels_config=None):\n",
    "    state_dict = torch.load(weight_path)\n",
    "    state_dict['state_dict'] = net.state_dict()\n",
    "    del state_dict['optimizer']\n",
    "    if custom_channels_config is not None:\n",
    "        state_dict['channels_config'] = custom_channels_config\n",
    "    state_dict['state_dict'] = {'module.' + k:v for k,v in state_dict['state_dict'].items()}\n",
    "    torch.save(state_dict, file_path)\n",
    "\n",
    "file_path = '/home/eli/Eli/Training/Imagenet/resnet50/resnet50_pre_0_995_w_0_25_gm_0_2_w_0_5/net_e_80_custom_resnet'\n",
    "save_net(custom_net, file_path, channels_config)"
   ]
  },
  {
   "cell_type": "markdown",
   "metadata": {},
   "source": [
    "## Net Timing I"
   ]
  },
  {
   "cell_type": "code",
   "execution_count": null,
   "metadata": {},
   "outputs": [],
   "source": [
    "custom_net = custom_net.cuda()\n",
    "for i in range(10):\n",
    "    time_net(custom_net)"
   ]
  },
  {
   "cell_type": "markdown",
   "metadata": {},
   "source": [
    "## Net Timing II"
   ]
  },
  {
   "cell_type": "code",
   "execution_count": null,
   "metadata": {},
   "outputs": [],
   "source": [
    "# pruned_net = deepcopy(net)\n",
    "# prune_net_with_hooks(pruned_net, mapper, False)\n",
    "# resnet = pruned_net.net.cuda()\n",
    "\n",
    "# for i in range(10):\n",
    "#     time_net(resnet)"
   ]
  },
  {
   "cell_type": "markdown",
   "metadata": {},
   "source": [
    "## Original Resnet timing"
   ]
  },
  {
   "cell_type": "code",
   "execution_count": 4,
   "metadata": {},
   "outputs": [
    {
     "ename": "NameError",
     "evalue": "name 'time_net' is not defined",
     "output_type": "error",
     "traceback": [
      "\u001b[0;31m---------------------------------------------------------------------------\u001b[0m",
      "\u001b[0;31mNameError\u001b[0m                                 Traceback (most recent call last)",
      "\u001b[0;32m<ipython-input-4-714e990e2750>\u001b[0m in \u001b[0;36m<module>\u001b[0;34m\u001b[0m\n\u001b[1;32m      3\u001b[0m \u001b[0mresnet_original\u001b[0m \u001b[0;34m=\u001b[0m \u001b[0mresnet_original\u001b[0m\u001b[0;34m.\u001b[0m\u001b[0mcuda\u001b[0m\u001b[0;34m(\u001b[0m\u001b[0;34m)\u001b[0m\u001b[0;34m\u001b[0m\u001b[0;34m\u001b[0m\u001b[0m\n\u001b[1;32m      4\u001b[0m \u001b[0;32mfor\u001b[0m \u001b[0mi\u001b[0m \u001b[0;32min\u001b[0m \u001b[0mrange\u001b[0m\u001b[0;34m(\u001b[0m\u001b[0;36m10\u001b[0m\u001b[0;34m)\u001b[0m\u001b[0;34m:\u001b[0m\u001b[0;34m\u001b[0m\u001b[0;34m\u001b[0m\u001b[0m\n\u001b[0;32m----> 5\u001b[0;31m     \u001b[0mtime_net\u001b[0m\u001b[0;34m(\u001b[0m\u001b[0mresnet_original\u001b[0m\u001b[0;34m)\u001b[0m\u001b[0;34m\u001b[0m\u001b[0;34m\u001b[0m\u001b[0m\n\u001b[0m",
      "\u001b[0;31mNameError\u001b[0m: name 'time_net' is not defined"
     ]
    }
   ],
   "source": [
    "from torchvision.models.resnet import resnet50\n",
    "resnet_original = resnet50(True)\n",
    "resnet_original = resnet_original.cuda()\n",
    "for i in range(10):\n",
    "    time_net(resnet_original)"
   ]
  },
  {
   "cell_type": "markdown",
   "metadata": {},
   "source": [
    "## Plotting hooks"
   ]
  },
  {
   "cell_type": "code",
   "execution_count": null,
   "metadata": {},
   "outputs": [],
   "source": [
    "def get_gating_plots(hooks):\n",
    "    for i, h  in enumerate(hooks):\n",
    "        probs = h.gating_module.gating_probabilities.detach().numpy()\n",
    "        plt.figure(i, figsize=(10,6))\n",
    "        plt.scatter(np.linspace(1,len(probs),len(probs)), probs)\n",
    "        print('gate {:2d}  prune {:4d} / {:4d} prune percentage {:6.2f}%'.format(i, int(h.gating_module.active_channels()), len(h.gating_module.gating_weights), 100 * (1 - int(h.gating_module.active_channels())/ len(h.gating_module.gating_weights))))\n",
    "get_gating_plots(net.forward_hooks)"
   ]
  },
  {
   "cell_type": "code",
   "execution_count": null,
   "metadata": {},
   "outputs": [],
   "source": []
  }
 ],
 "metadata": {
  "kernelspec": {
   "display_name": "Python 3",
   "language": "python",
   "name": "python3"
  },
  "language_info": {
   "codemirror_mode": {
    "name": "ipython",
    "version": 3
   },
   "file_extension": ".py",
   "mimetype": "text/x-python",
   "name": "python",
   "nbconvert_exporter": "python",
   "pygments_lexer": "ipython3",
   "version": "3.7.7"
  }
 },
 "nbformat": 4,
 "nbformat_minor": 4
}
