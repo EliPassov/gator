{
 "cells": [
  {
   "cell_type": "code",
   "execution_count": null,
   "metadata": {},
   "outputs": [],
   "source": [
    "import os\n",
    "import numpy as np\n",
    "import pandas as pd\n",
    "from matplotlib import pyplot as plt\n",
    "import matplotlib as mpl\n",
    "\n",
    "mpl.rc('image', cmap='Set1')\n",
    "\n",
    "if os.path.basename(os.getcwd()) == 'analysis':\n",
    "    os.chdir('..')\n",
    "from models.custom_resnet import custom_resnet_50, custom_resnet_56"
   ]
  },
  {
   "cell_type": "code",
   "execution_count": null,
   "metadata": {},
   "outputs": [],
   "source": [
    "path = './results/net_time_comparison.csv'\n",
    "d = pd.read_csv(path)"
   ]
  },
  {
   "cell_type": "code",
   "execution_count": null,
   "metadata": {},
   "outputs": [],
   "source": [
    "original_flops, original_memory, original_batch_8, original_batch_32 = tuple(d[d.type=='original'][['flops','memory','batch 8 time', 'batch 32 time']].values[0].tolist())\n",
    "\n",
    "d['flop_reduction'] = 100*(original_flops - d.flops)/original_flops\n",
    "d['theoretical_speedup'] = original_flops/ d.flops\n",
    "d['memory_reduction'] = 100*(original_memory - d.memory)/original_memory\n",
    "d['speedup 8'] = original_batch_8 / d['batch 8 time']\n",
    "d['speedup 32'] = original_batch_32 / d['batch 32 time']"
   ]
  },
  {
   "cell_type": "code",
   "execution_count": null,
   "metadata": {},
   "outputs": [],
   "source": [
    "d"
   ]
  },
  {
   "cell_type": "markdown",
   "metadata": {},
   "source": [
    "### Latex form conversion"
   ]
  },
  {
   "cell_type": "code",
   "execution_count": null,
   "metadata": {},
   "outputs": [],
   "source": [
    "relevant_columns = ['net', 'top1', 'top5', 'flop_reduction', 'memory_reduction', 'speedup 32']\n",
    "d_table = d[relevant_columns]\n",
    "for col in ['top1', 'top5', 'flop_reduction', 'memory_reduction']:\n",
    "    d_table[col] = d_table[col].map('{:.2f}'.format)\n",
    "d_table['speedup 32'] = d_table['speedup 32'].map('{:.3f}'.format)\n",
    "d_table = d_table.replace('nan','--')\n",
    "\n",
    "result_path = '/home/eli/Eli/gator/table_text_results/imagenet_table.txt'\n",
    "with open(result_path, 'w+') as f:\n",
    "# if True:\n",
    "    for _,r in d_table.iterrows():\n",
    "        row = ' & '.join([str(a) for a in r.tolist()]) + ' \\\\\\\\'\n",
    "        print(row)\n",
    "        f.write(row + '\\n')"
   ]
  },
  {
   "cell_type": "code",
   "execution_count": null,
   "metadata": {},
   "outputs": [],
   "source": [
    "\n",
    "flops = d[(d.type=='flops') | (d.type==\"original\")]\n",
    "timing = d[(d.type=='b8')| (d.type==\"original\")].dropna()\n",
    "dcp = d[(d.type=='dcp') | (d.type==\"original\")]\n",
    "geo = d[(d.type=='geo') | (d.type==\"original\")]\n",
    "chan = d[(d.type=='chan') | (d.type==\"original\")]\n",
    "pcas = d[(d.type=='pcas') | (d.type==\"original\")]\n",
    "\n",
    "\n",
    "prunes = [flops, timing, dcp, geo, chan, pcas]\n",
    "prune_names = ['GATOR FLOPs', 'GATOR latency', 'DCP', 'Geometric median', 'Channel Pruning', 'PCAS']\n",
    "\n",
    "mobilenet = d[d.net=='Mobilenet V2']\n",
    "squezenet0 = d[d.net=='squeezenet 1_0']\n",
    "squezenet1 = d[d.net=='squeezenet 1_1']\n",
    "\n",
    "small_nets = [mobilenet, squezenet0, squezenet1]\n",
    "small_nets_names= ['MobileNet V2', 'SqueezeNet 1_0', 'SqueezeNet 1_1'] \n",
    "\n",
    "small_nets = [mobilenet]\n",
    "small_nets_names= ['MobileNet V2'] \n"
   ]
  },
  {
   "cell_type": "code",
   "execution_count": null,
   "metadata": {},
   "outputs": [],
   "source": [
    "def plot_comparison(x_name, y_name, include_small=True):\n",
    "    plt.figure(figsize=(10,5))\n",
    "    for i in range(len(prunes)):\n",
    "        data, name = prunes[i], prune_names[i]\n",
    "        if len(data[x_name].dropna())>1:\n",
    "            plt.plot(data[x_name], data[y_name],('--' if name=='DCP' else '-'), label = name, )\n",
    "    if include_small:\n",
    "        for i in range(len(small_nets)):\n",
    "            s, s_name = small_nets[i], small_nets_names[i]\n",
    "            plt.scatter(s[x_name], s[y_name], label=s_name)\n",
    "    plt.xlabel(x_name.replace('_', ' ').replace('reduction', 'reduction %').replace('speedup 32', 'speedup multiplier'), fontsize=14)\n",
    "    plt.ylabel(y_name.replace('_', ' ') if 'top' not in y_name else y_name + ' accuracy %', fontsize=14)\n",
    "    plt.legend(loc='best', fontsize=14)\n",
    "    plt.show()"
   ]
  },
  {
   "cell_type": "code",
   "execution_count": null,
   "metadata": {},
   "outputs": [],
   "source": [
    "plot_comparison('flop_reduction', 'top1', False)"
   ]
  },
  {
   "cell_type": "code",
   "execution_count": null,
   "metadata": {},
   "outputs": [],
   "source": [
    "plot_comparison('flop_reduction', 'top5', False)"
   ]
  },
  {
   "cell_type": "code",
   "execution_count": null,
   "metadata": {},
   "outputs": [],
   "source": [
    "plot_comparison('theoretical_speedup', 'top1', False)"
   ]
  },
  {
   "cell_type": "code",
   "execution_count": null,
   "metadata": {},
   "outputs": [],
   "source": [
    "plot_comparison('theoretical_speedup', 'top5', False)"
   ]
  },
  {
   "cell_type": "code",
   "execution_count": null,
   "metadata": {},
   "outputs": [],
   "source": [
    "plot_comparison('speedup 8', 'top1', True)"
   ]
  },
  {
   "cell_type": "code",
   "execution_count": null,
   "metadata": {},
   "outputs": [],
   "source": [
    "plot_comparison('speedup 8', 'top5', True)"
   ]
  },
  {
   "cell_type": "code",
   "execution_count": null,
   "metadata": {},
   "outputs": [],
   "source": [
    "plot_comparison('speedup 32', 'top1', True)"
   ]
  },
  {
   "cell_type": "code",
   "execution_count": null,
   "metadata": {},
   "outputs": [],
   "source": [
    "plot_comparison('speedup 32', 'top5', True)"
   ]
  },
  {
   "cell_type": "code",
   "execution_count": null,
   "metadata": {},
   "outputs": [],
   "source": [
    "plot_comparison('speedup 32', 'top5', True)"
   ]
  },
  {
   "cell_type": "code",
   "execution_count": null,
   "metadata": {},
   "outputs": [],
   "source": [
    "# custom resnet 56\n",
    "import os\n",
    "import torch\n",
    "if os.path.basename(os.getcwd()) == 'analysis':\n",
    "    os.chdir('..')\n",
    "    \n",
    "from models.cifar_resnet import resnet56\n",
    "from models.custom_resnet import custom_resnet_56\n",
    "\n",
    "weight_path = \\\n",
    "'/home/eli/Eli/Training/Cifar10/ResNet56/resnet56_w_16/net_e_240'\n",
    "full_dict = torch.load(weight_path)\n",
    "state_dict = full_dict['state_dict']\n",
    "channels_config = full_dict['channels_config']\n",
    "net = custom_resnet_56(channels_config, 10)\n",
    "res = net.compute_flops_memory(True)\n",
    "print('{}, {}'.format(res[0],res[1]))\n",
    "\n",
    "# print(resnet56(10).compute_flops_memory(True))"
   ]
  },
  {
   "cell_type": "code",
   "execution_count": null,
   "metadata": {},
   "outputs": [],
   "source": [
    "path = './results/cifar_results.csv'\n",
    "d2 = pd.read_csv(path)\n",
    "original_flops2, original_memory2 = tuple(d2[d2.type=='original'][['flops','memory']].values[0].tolist())\n",
    "\n",
    "d2['flop_reduction'] = 100*(original_flops2 - d2.flops)/original_flops2\n",
    "d2['memory_reduction'] = 100*(original_memory2 - d2.memory)/original_memory2\n",
    "d2['theoretical_speedup'] = original_flops2/ d2.flops"
   ]
  },
  {
   "cell_type": "code",
   "execution_count": null,
   "metadata": {},
   "outputs": [],
   "source": [
    "d2"
   ]
  },
  {
   "cell_type": "code",
   "execution_count": null,
   "metadata": {},
   "outputs": [],
   "source": [
    "relevant_columns2 = ['net', 'accuracy', 'flop_reduction', 'memory_reduction']\n",
    "d_table2 = d2[relevant_columns2]\n",
    "for col in ['accuracy', 'flop_reduction', 'memory_reduction']:\n",
    "    d_table2[col] = d_table2[col].map('{:.2f}'.format)\n",
    "d_table2 = d_table2.replace('nan','--')\n",
    "    \n",
    "result_path2 = '/home/eli/Eli/gator/table_text_results/cifar_table.txt'\n",
    "with open(result_path2, 'w+') as f:\n",
    "# if True:\n",
    "    for _,r in d_table2.iterrows():\n",
    "        row = ' & '.join([str(a) for a in r.tolist()]) + ' \\\\\\\\'\n",
    "        print(row)\n",
    "        f.write(row + '\\n')"
   ]
  },
  {
   "cell_type": "code",
   "execution_count": null,
   "metadata": {},
   "outputs": [],
   "source": [
    "flops2 = d2[(d2.type=='flops') | (d2.type==\"original\")]\n",
    "memory2 = d2[(d2.type=='memory') & ~(d2.net.str.contains('16')) & ~(d2.net.str.contains('8')) | (d2.type==\"original\")].dropna()\n",
    "direct2 = d2[(d2.type=='direct') | (d2.net==\"P 0.25\") | (d2.type==\"original\")]\n",
    "\n",
    "prunes2 = [flops2, memory2, direct2]\n",
    "prune_names2 = ['GATOR FLOPs', 'GATOR memory', 'GATOR FLOPs direct']"
   ]
  },
  {
   "cell_type": "code",
   "execution_count": null,
   "metadata": {},
   "outputs": [],
   "source": [
    "def plot_comparison2(x_name, y_name):\n",
    "    plt.figure(figsize=(10,5))\n",
    "    for i in range(len(prunes2)):\n",
    "        data, name = prunes2[i], prune_names2[i]\n",
    "        if len(data[x_name].dropna())>1:\n",
    "            plt.plot(data[x_name], data[y_name], label = name)\n",
    "    plt.xlabel(x_name.replace('_', ' ').replace('reduction', 'reduction %'), fontsize=14)\n",
    "    plt.ylabel(y_name.replace('_', ' ').replace('accuracy', 'accuracy %'), fontsize=14)\n",
    "    plt.legend(loc='best', fontsize=14)\n",
    "    plt.show()"
   ]
  },
  {
   "cell_type": "code",
   "execution_count": null,
   "metadata": {},
   "outputs": [],
   "source": [
    "plot_comparison2('flop_reduction', 'accuracy')"
   ]
  },
  {
   "cell_type": "code",
   "execution_count": null,
   "metadata": {},
   "outputs": [],
   "source": [
    "plot_comparison2('theoretical_speedup', 'accuracy')"
   ]
  },
  {
   "cell_type": "code",
   "execution_count": null,
   "metadata": {},
   "outputs": [],
   "source": [
    "plot_comparison2('memory_reduction', 'accuracy')"
   ]
  },
  {
   "cell_type": "code",
   "execution_count": null,
   "metadata": {},
   "outputs": [],
   "source": []
  }
 ],
 "metadata": {
  "kernelspec": {
   "display_name": "Python 3",
   "language": "python",
   "name": "python3"
  },
  "language_info": {
   "codemirror_mode": {
    "name": "ipython",
    "version": 3
   },
   "file_extension": ".py",
   "mimetype": "text/x-python",
   "name": "python",
   "nbconvert_exporter": "python",
   "pygments_lexer": "ipython3",
   "version": "3.7.9"
  }
 },
 "nbformat": 4,
 "nbformat_minor": 4
}
